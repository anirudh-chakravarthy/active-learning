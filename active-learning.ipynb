{
 "cells": [
  {
   "cell_type": "markdown",
   "metadata": {},
   "source": [
    "# ML Assignment 2 - Active Learning\n",
    "\n",
    "Group Members\n",
    "1. Anirudh Srinivasan Chakravarthy - 2017A7PS1195P\n",
    "2. S Hariharan - 2017A7PS0134P\n",
    "3. Divyam Goel - 2017A7PS1196P"
   ]
  },
  {
   "cell_type": "code",
   "execution_count": 1,
   "metadata": {},
   "outputs": [],
   "source": [
    "import numpy as np\n",
    "from sklearn.datasets import load_breast_cancer\n",
    "from sklearn.preprocessing import MinMaxScaler\n",
    "from sklearn.model_selection import train_test_split\n",
    "from sklearn.linear_model import LogisticRegression\n",
    "from sklearn.metrics import accuracy_score, confusion_matrix"
   ]
  },
  {
   "cell_type": "markdown",
   "metadata": {},
   "source": [
    "### Load the Breast Cancer dataset"
   ]
  },
  {
   "cell_type": "code",
   "execution_count": 2,
   "metadata": {},
   "outputs": [],
   "source": [
    "# load dataset\n",
    "x, y = load_breast_cancer(return_X_y=True)\n",
    "NUM_EXAMPLES = len(x)"
   ]
  },
  {
   "cell_type": "code",
   "execution_count": 3,
   "metadata": {},
   "outputs": [],
   "source": [
    "# pre-processing, scale features between 0 and 1\n",
    "scaler = MinMaxScaler()\n",
    "x = scaler.fit_transform(x)"
   ]
  },
  {
   "cell_type": "code",
   "execution_count": 4,
   "metadata": {},
   "outputs": [],
   "source": [
    "# divide the whole dataset in train & test splits\n",
    "X_train, X_test, y_train, y_test = train_test_split(x, y, test_size = 0.20, random_state = 4)\n",
    "\n",
    "# further divide the train data in labelled & unlabelled data\n",
    "# retain only 3% of labelled points for training\n",
    "X_labelled, X_unlabelled, y_labelled, y_oracle = train_test_split(X_train, y_train, test_size = 0.97, random_state = 4)"
   ]
  },
  {
   "cell_type": "markdown",
   "metadata": {},
   "source": [
    "### Uncertainty Sampling\n",
    "3 possible information measures: Least confident, margin sampling, entropy"
   ]
  },
  {
   "cell_type": "code",
   "execution_count": 5,
   "metadata": {},
   "outputs": [],
   "source": [
    "def uncertaintySampling(model, measure, ALtype, labelPercent):\n",
    "\n",
    "    probabilities = model.predict_proba(X_unlabelled)\n",
    "\n",
    "    # stream-based active learning\n",
    "    if ALtype == \"stream\":\n",
    "        queriedData, newLabels = [], []\n",
    "        # stream of points - one by one\n",
    "        for i in range(len(X_unlabelled)):\n",
    "            # return all points with confidence threshold\n",
    "            if measure == \"leastConfident\":\n",
    "                if probabilities[i].max() < 0.6:\n",
    "                    queriedData.append(X_unlabelled[i])\n",
    "                    newLabels.append(y_oracle[i])\n",
    "            # return all points with margin threshold\n",
    "            elif measure == \"marginSampling\":\n",
    "                sortedProbabilities = np.sort(probabilities[i])\n",
    "                margin = abs(sortedProbabilities[1] - sortedProbabilities[0])\n",
    "                if margin < 0.2:\n",
    "                    queriedData.append(X_unlabelled[i])\n",
    "                    newLabels.append(y_oracle[i])\n",
    "            # return all points with entropy threshold\n",
    "            elif measure == \"entropy\":\n",
    "                entropy = -np.sum(probabilities[i] * np.log2(probabilities[i]))\n",
    "                if entropy > 0.99:\n",
    "                    queriedData.append(X_unlabelled[i])\n",
    "                    newLabels.append(y_oracle[i])\n",
    "            else:\n",
    "                assert False, \"Information measure not implemented\"\n",
    "        return np.asarray(queriedData), np.asarray(newLabels)\n",
    "\n",
    "    \n",
    "    # pool-based active learning\n",
    "    elif ALtype == \"pool\":\n",
    "        # return labelPercent points of all points\n",
    "        num_queries = int(NUM_EXAMPLES * labelPercent)\n",
    "        if measure == \"leastConfident\":\n",
    "            sortedProbabilities = np.argsort(probabilities.max(axis=1))\n",
    "            indices = sortedProbabilities[:num_queries]\n",
    "        elif measure == \"marginSampling\":\n",
    "            sortedProbabilities = np.sort(probabilities)\n",
    "            indices = np.argsort(sortedProbabilities[:,1] - sortedProbabilities[:,0])[:num_queries]\n",
    "        elif measure == \"entropy\":\n",
    "            entropies = -np.sum(probabilities * np.log2(probabilities), axis=1)\n",
    "            indices = np.argsort(entropies)[-num_queries:]\n",
    "        else:\n",
    "            assert False, \"Information measure not implemented\"            \n",
    "        return X_unlabelled[indices], y_oracle[indices]\n",
    "\n",
    "    else:\n",
    "        assert False, \"Active learning type not implemented\""
   ]
  },
  {
   "cell_type": "markdown",
   "metadata": {},
   "source": [
    "## Query By Committee\n",
    "2 disagreement measures: Vote entropy and KL Divergence\n",
    "\n",
    "Number of committee members = 6"
   ]
  },
  {
   "cell_type": "code",
   "execution_count": 21,
   "metadata": {},
   "outputs": [],
   "source": [
    "# create appropriate committee models though\n",
    "NUM_COMMITTEE_MEMBERS = 9\n",
    "\n",
    "def qbc(committee, measure, ALtype, labelPercent):\n",
    "    \n",
    "    if ALtype == \"stream\":\n",
    "        \n",
    "        queriedData, newLabels = [], []\n",
    "            \n",
    "        # stream of points - one by one\n",
    "        for i in range(len(X_unlabelled)):\n",
    "            predictions = []\n",
    "            \n",
    "            # each committee member gives their prediction\n",
    "            for j in range(NUM_COMMITTEE_MEMBERS):\n",
    "                predictions.append(committee[j].predict(X_unlabelled[i])[0])\n",
    "        \n",
    "\n",
    "            # vote entropy based disagreement\n",
    "            if measure == \"voteEntropy\":\n",
    "                entropy = 0\n",
    "                \n",
    "                # finding counts for each class\n",
    "                for i in range(NUM_CLASSES):\n",
    "                    \n",
    "                    count = predictions.count(i)\n",
    "                    \n",
    "                    # no entropy if vote doesn't exist\n",
    "                    if count == 0:\n",
    "                        continue\n",
    "                        \n",
    "                    entropy -= (count / NUM_COMMITTEE_MEMBERS) * np.log2(count / NUM_COMMITTEE_MEMBERS)\n",
    "                    \n",
    "                if entropy > 1.09:\n",
    "                    queriedData.append(X_unlabelled[i])\n",
    "                    newLabels.append(y_oracle[i])\n",
    "                    \n",
    "            # KL Divergence based disagreement   \n",
    "            elif measure == \"KLDivergence\":\n",
    "                kld = 0\n",
    "                \n",
    "                # finding counts for each class\n",
    "                for i in range(NUM_CLASSES):\n",
    "                    \n",
    "                    count = predictions.count(i)\n",
    "                    \n",
    "                    # no KLD if vote doesn't exist\n",
    "                    if count == 0:\n",
    "                        continue\n",
    "                        \n",
    "                    kld -= count * np.log2(count / NUM_COMMITTEE_MEMBERS)\n",
    "                    \n",
    "                if kld > 600:\n",
    "                    queriedData.append(X_unlabelled[i])\n",
    "                    newLabels.append(y_oracle[i])\n",
    "                \n",
    "            else:\n",
    "                assert False, \"Disagreement measure not implemented\"\n",
    "                \n",
    "            return np.asarray(queriedData), np.asarray(newLabels)\n",
    "            \n",
    "        \n",
    "    elif ALtype == \"pool\":\n",
    "        \n",
    "        predictions = []\n",
    "        disagreement = []\n",
    "        num_queries = int(NUM_EXAMPLES * labelPercent)\n",
    "        \n",
    "        for j in range(NUM_COMMITTEE_MEMBERS):\n",
    "            predictions.append(committee[j].predict(X_unlabelled))\n",
    "            \n",
    "        for i in range(len(X_unlabelled)):\n",
    "\n",
    "            instanceDisagreement = 0\n",
    "            for j in range(NUM_CLASSES):\n",
    "                count = predictions[i].count(j)\n",
    "                \n",
    "                # no contibution for classes not present in prediction\n",
    "                if count == 0:\n",
    "                    continue\n",
    "                \n",
    "                if measure == \"voteEntropy\":\n",
    "                    instanceDisagreement -= (count / NUM_COMMITTEE_MEMBERS) * np.log2(count / NUM_COMMITTEE_MEMBERS)\n",
    "                    \n",
    "                elif measure == \"KLDivergence\":\n",
    "                    instanceDisagreement -= count * np.log2(count / NUM_COMMITTEE_MEMBERS)\n",
    "                    \n",
    "                else:\n",
    "                    assert False, \"Disagreement measure not implemented\"\n",
    "                    \n",
    "            disagreement.append(instanceDisagreement)\n",
    "            \n",
    "        disagreement = np.asarray(disagreement)\n",
    "        indices = np.argsort(disagreement, axis = 0)[-num_queries:]\n",
    "        return X_unlabelled[indices], y_oracle[indices]\n",
    "        \n",
    "    else: \n",
    "        assert False, \"Active learning type not implemented\""
   ]
  },
  {
   "cell_type": "markdown",
   "metadata": {},
   "source": [
    "## Training\n",
    "\n",
    "Active Learning on Decision tree classifier"
   ]
  },
  {
   "cell_type": "code",
   "execution_count": 6,
   "metadata": {},
   "outputs": [
    {
     "name": "stdout",
     "output_type": "stream",
     "text": [
      "Accuracy: 0.8070175438596491\n",
      "\n",
      "Confusion Matrix\n",
      "[[34  0]\n",
      " [22 58]]\n"
     ]
    }
   ],
   "source": [
    "model = LogisticRegression(random_state=0)\n",
    "\n",
    "model.fit(X_labelled, y_labelled)\n",
    "prediction = model.predict(X_test)\n",
    "\n",
    "print(\"Accuracy:\", accuracy_score(y_test, prediction))\n",
    "print(\"\\nConfusion Matrix:\")\n",
    "print(confusion_matrix(y_test, prediction))"
   ]
  },
  {
   "cell_type": "markdown",
   "metadata": {},
   "source": [
    "### Inputs"
   ]
  },
  {
   "cell_type": "code",
   "execution_count": 7,
   "metadata": {},
   "outputs": [],
   "source": [
    "strategy_list = ['uncertainty', 'qbc']\n",
    "al_type_list = ['stream', 'pool']\n",
    "measure_list = ['leastConfident', 'marginSampling', 'entropy']\n",
    "\n",
    "strategy = strategy_list[0]\n",
    "al_type = al_type_list[0]\n",
    "measure = measure_list[0]\n",
    "\n",
    "labelPercent = 0.3 # percent of newly labelled data needed"
   ]
  },
  {
   "cell_type": "code",
   "execution_count": 8,
   "metadata": {},
   "outputs": [],
   "source": [
    "X_active, y_active = X_labelled, y_labelled\n",
    "\n",
    "if strategy == \"uncertainty\":\n",
    "    queriedData, newLabels = uncertaintySampling(model, measure, al_type, labelPercent)\n",
    "    X_active = np.concatenate((X_active, queriedData))\n",
    "    y_active = np.concatenate((y_active, newLabels))\n",
    "    \n",
    "elif strategy == \"qbc\":\n",
    "    queriedData, newLabels = qbc(model, measure, al_type, labelPercent)\n",
    "    X_active = np.concatenate(X_active, queriedData)\n",
    "    y_active = np.concatenate(y_active, newLabels)\n",
    "    \n",
    "else:\n",
    "    assert False, \"Strategy not implemented\""
   ]
  },
  {
   "cell_type": "code",
   "execution_count": 9,
   "metadata": {},
   "outputs": [
    {
     "name": "stdout",
     "output_type": "stream",
     "text": [
      "Accuracy: 0.9649122807017544\n",
      "[[30  4]\n",
      " [ 0 80]]\n"
     ]
    }
   ],
   "source": [
    "newModel = LogisticRegression(random_state=0)\n",
    "\n",
    "model.fit(X_active, y_active)\n",
    "prediction = model.predict(X_test)\n",
    "\n",
    "print(\"Accuracy:\", accuracy_score(y_test, prediction))\n",
    "print(\"\\nConfusion Matrix:\")\n",
    "print(confusion_matrix(y_test, prediction))"
   ]
  }
 ],
 "metadata": {
  "kernelspec": {
   "display_name": "Python 3",
   "language": "python",
   "name": "python3"
  },
  "language_info": {
   "codemirror_mode": {
    "name": "ipython",
    "version": 3
   },
   "file_extension": ".py",
   "mimetype": "text/x-python",
   "name": "python",
   "nbconvert_exporter": "python",
   "pygments_lexer": "ipython3",
   "version": "3.5.2"
  }
 },
 "nbformat": 4,
 "nbformat_minor": 4
}
