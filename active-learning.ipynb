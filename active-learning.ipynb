{
 "cells": [
  {
   "cell_type": "markdown",
   "metadata": {},
   "source": [
    "# ML Assignment 2 - Active Learning\n",
    "\n",
    "Group Members\n",
    "1. Anirudh Srinivasan Chakravarthy - 2017A7PS1195P\n",
    "2. S Hariharan - 2017A7PS0134P\n",
    "3. Divyam Goel - 2017A7PS1196P"
   ]
  },
  {
   "cell_type": "code",
   "execution_count": 1,
   "metadata": {},
   "outputs": [],
   "source": [
    "from __future__ import print_function\n",
    "from __future__ import division\n",
    "from __future__ import absolute_import\n",
    "\n",
    "import os\n",
    "import sys\n",
    "import numpy as np\n",
    "from sklearn.preprocessing import MinMaxScaler\n",
    "from sklearn.datasets import fetch_openml\n",
    "from sklearn.model_selection import train_test_split"
   ]
  },
  {
   "cell_type": "code",
   "execution_count": 2,
   "metadata": {},
   "outputs": [],
   "source": [
    "from sklearn.linear_model import LogisticRegression\n",
    "from sklearn.tree import DecisionTreeClassifier\n",
    "from sklearn.neural_network import MLPClassifier\n",
    "from sklearn.ensemble import RandomForestClassifier, AdaBoostClassifier\n",
    "from sklearn.svm import SVC\n",
    "from sklearn.naive_bayes import GaussianNB\n",
    "from sklearn.discriminant_analysis import LinearDiscriminantAnalysis\n",
    "from sklearn.neighbors import KNeighborsClassifier\n",
    "from sklearn.cluster import KMeans\n",
    "from sklearn.metrics import accuracy_score, confusion_matrix"
   ]
  },
  {
   "cell_type": "markdown",
   "metadata": {},
   "source": [
    "## Load the MNIST digit recognition dataset"
   ]
  },
  {
   "cell_type": "code",
   "execution_count": 3,
   "metadata": {},
   "outputs": [],
   "source": [
    "mnist = fetch_openml('mnist_784')\n",
    "x = mnist.data\n",
    "y = mnist.target"
   ]
  },
  {
   "cell_type": "code",
   "execution_count": 4,
   "metadata": {},
   "outputs": [],
   "source": [
    "NUM_EXAMPLES = len(x)\n",
    "NUM_CLASSES = 10"
   ]
  },
  {
   "cell_type": "code",
   "execution_count": 5,
   "metadata": {},
   "outputs": [],
   "source": [
    "scaler = MinMaxScaler()\n",
    "x = scaler.fit_transform(x)"
   ]
  },
  {
   "cell_type": "code",
   "execution_count": 6,
   "metadata": {},
   "outputs": [],
   "source": [
    "# retaining only 10% of labelled points\n",
    "X_train, X_test, y_train, y_test = train_test_split(x, y, test_size = 0.20, random_state = 4)\n",
    "X_labelled, X_unlabelled, y_labelled, y_oracle = train_test_split(X_train, y_train, test_size = 0.90, random_state = 4)"
   ]
  },
  {
   "cell_type": "markdown",
   "metadata": {},
   "source": [
    "## Uncertainty Sampling\n",
    "3 possible information measures: Least confident, margin sampling, entropy"
   ]
  },
  {
   "cell_type": "code",
   "execution_count": 7,
   "metadata": {},
   "outputs": [],
   "source": [
    "def uncertaintySampling(model, measure, ALtype, labelPercent):\n",
    "    \n",
    "    probabilities = model.predict_proba(X_unlabelled)\n",
    "    \n",
    "    # stream-based active learning\n",
    "    if ALtype == \"stream\":\n",
    "        \n",
    "        queriedData, newLabels = [], []\n",
    "        \n",
    "        # stream of points - one by one\n",
    "        for i in range(len(X_unlabelled)):\n",
    "            \n",
    "            # slight modification - return all points with confidence threshold\n",
    "            if measure == \"leastConfident\":\n",
    "                if probabilities[i].max() < 0.4:\n",
    "                    queriedData.append(X_unlabelled[i])\n",
    "                    newLabels.append(y_oracle[i])\n",
    "            \n",
    "            \n",
    "            # slight modification - return all points with margin threshold\n",
    "            elif measure == \"marginSampling\":\n",
    "                sortedProbabilities = np.sort(probabilities[i])\n",
    "                margin = abs(sortedProbabilities[1] - sortedProbabilities[0][0])\n",
    "                if margin < 0.05:\n",
    "                    queriedData.append(X_unlabelled[i])\n",
    "                    newLabels.append(y_oracle[i])\n",
    "    \n",
    "                \n",
    "            # slight modification - return all points with entropy threshold\n",
    "            elif measure == \"entropy\":\n",
    "                entropy = -np.sum(probabilities[i] * np.log2(probabilities[i]))\n",
    "                if entropy > 1.09:\n",
    "                    queriedData.append(X_unlabelled[i])\n",
    "                    newLabels.append(y_oracle[i])\n",
    "            \n",
    "            else:\n",
    "                assert False, \"Information measure not implemented\"\n",
    "                \n",
    "        return np.asarray(queriedData), np.asarray(newLabels)\n",
    "\n",
    "    \n",
    "    # pool-based active learning\n",
    "    elif ALtype == \"pool\":\n",
    "        \n",
    "        num_queries = int(NUM_EXAMPLES * labelPercent)\n",
    "        \n",
    "        if measure == \"leastConfident\":\n",
    "            sortedProbabilities = np.argsort(probabilities.max(axis=1))\n",
    "            indices = sortedProbabilities[:num_queries]\n",
    "            \n",
    "        elif measure == \"marginSampling\":\n",
    "            sortedProbabilities = np.sort(probabilities)\n",
    "            indices = np.argsort(sortedProbabilities[:,1] - np.sort(prob)[:,0])[:num_queries]\n",
    "            \n",
    "        elif measure == \"entropy\":\n",
    "            entropies = -np.sum(probabilities * np.log2(probabilities), axis=1)\n",
    "            indices = np.argsort(entropies)[-num_queries:]\n",
    "            \n",
    "        else:\n",
    "            assert False, \"Information measure not implemented\"\n",
    "            \n",
    "        return X_unlabelled[indices], y_oracle[indices]\n",
    "\n",
    "    else:\n",
    "        assert False, \"Active learning type not implemented\""
   ]
  },
  {
   "cell_type": "markdown",
   "metadata": {},
   "source": [
    "## Query By Committee\n",
    "2 disagreement measures: Vote entropy and KL Divergence\n",
    "\n",
    "Number of committee members = 6"
   ]
  },
  {
   "cell_type": "code",
   "execution_count": 8,
   "metadata": {},
   "outputs": [],
   "source": [
    "# create appropriate committee models though\n",
    "NUM_COMMITTEE_MEMBERS = 9\n",
    "\n",
    "def qbc(committee, measure, ALtype, labelPercent):\n",
    "    \n",
    "    if ALtype == \"stream\":\n",
    "        \n",
    "        queriedData, newLabels = [], []\n",
    "            \n",
    "        # stream of points - one by one\n",
    "        for i in range(len(X_unlabelled)):\n",
    "            predictions = []\n",
    "            \n",
    "            # each committee member gives their prediction\n",
    "            for j in range(NUM_COMMITTEE_MEMBERS):\n",
    "                predictions.append(committee[j].predict(X_unlabelled[i])[0])\n",
    "        \n",
    "\n",
    "            # vote entropy based disagreement\n",
    "            if measure == \"voteEntropy\":\n",
    "                entropy = 0\n",
    "                \n",
    "                # finding counts for each class\n",
    "                for i in range(NUM_CLASSES):\n",
    "                    \n",
    "                    count = predictions.count(i)\n",
    "                    \n",
    "                    # no entropy if vote doesn't exist\n",
    "                    if count == 0:\n",
    "                        continue\n",
    "                        \n",
    "                    entropy -= (count / NUM_COMMITTEE_MEMBERS) * np.log2(count / NUM_COMMITTEE_MEMBERS)\n",
    "                    \n",
    "                if entropy > 1.09:\n",
    "                    queriedData.append(X_unlabelled[i])\n",
    "                    newLabels.append(y_oracle[i])\n",
    "                    \n",
    "            # KL Divergence based disagreement   \n",
    "            elif measure == \"KLDivergence\":\n",
    "                kld = 0\n",
    "                \n",
    "                # finding counts for each class\n",
    "                for i in range(NUM_CLASSES):\n",
    "                    \n",
    "                    count = predictions.count(i)\n",
    "                    \n",
    "                    # no KLD if vote doesn't exist\n",
    "                    if count == 0:\n",
    "                        continue\n",
    "                        \n",
    "                    kld -= count * np.log2(count / NUM_COMMITTEE_MEMBERS)\n",
    "                    \n",
    "                if kld > 600:\n",
    "                    queriedData.append(X_unlabelled[i])\n",
    "                    newLabels.append(y_oracle[i])\n",
    "                \n",
    "            else:\n",
    "                assert False, \"Disagreement measure not implemented\"\n",
    "                \n",
    "            return np.asarray(queriedData), np.asarray(newLabels)\n",
    "            \n",
    "        \n",
    "    elif ALtype == \"pool\":\n",
    "        \n",
    "        predictions = []\n",
    "        disagreement = []\n",
    "        num_queries = int(NUM_EXAMPLES * labelPercent)\n",
    "        \n",
    "        for j in range(NUM_COMMITTEE_MEMBERS):\n",
    "            predictions.append(committee[j].predict(X_unlabelled))\n",
    "            \n",
    "        for i in range(len(X_unlabelled)):\n",
    "\n",
    "            instanceDisagreement = 0\n",
    "            for j in range(NUM_CLASSES):\n",
    "                count = predictions[i].count(j)\n",
    "                \n",
    "                # no contibution for classes not present in prediction\n",
    "                if count == 0:\n",
    "                    continue\n",
    "                \n",
    "                if measure == \"voteEntropy\":\n",
    "                    instanceDisagreement -= (count / NUM_COMMITTEE_MEMBERS) * np.log2(count / NUM_COMMITTEE_MEMBERS)\n",
    "                    \n",
    "                elif measure == \"KLDivergence\":\n",
    "                    instanceDisagreement -= count * np.log2(count / NUM_COMMITTEE_MEMBERS)\n",
    "                    \n",
    "                else:\n",
    "                    assert False, \"Disagreement measure not implemented\"\n",
    "                    \n",
    "            disagreement.append(instanceDisagreement)\n",
    "            \n",
    "        disagreement = np.asarray(disagreement)\n",
    "        indices = np.argsort(disagreement, axis = 0)[-num_queries:]\n",
    "        return X_unlabelled[indices], y_oracle[indices]\n",
    "        \n",
    "    else: \n",
    "        assert False, \"Active learning type not implemented\""
   ]
  },
  {
   "cell_type": "markdown",
   "metadata": {},
   "source": [
    "## Training\n",
    "\n",
    "Active Learning on Decision tree classifier"
   ]
  },
  {
   "cell_type": "code",
   "execution_count": 9,
   "metadata": {},
   "outputs": [
    {
     "name": "stdout",
     "output_type": "stream",
     "text": [
      "Accuracy: 0.758\n",
      "[[1167    4   31   31   16   37   26   29   17   20]\n",
      " [   2 1442   28   23    7   20    7   23   25   15]\n",
      " [  23   22  983   83   40   21   52   39   79   25]\n",
      " [  18   30   55  981   23  134   18   41   77   47]\n",
      " [   1    8   38   17  979   24   48   45   55  147]\n",
      " [  54   25   32  111   26  809   58   28   71   50]\n",
      " [  24   25   60   19   43   31 1130    9   42   30]\n",
      " [   9   24   50   11   18   15    8 1181   23   52]\n",
      " [  18   28   55   64   50   66   30   26  922   88]\n",
      " [  17   20   42   26  134   49   13   79   64 1018]]\n"
     ]
    }
   ],
   "source": [
    "model = DecisionTreeClassifier()\n",
    "\n",
    "model.fit(X_labelled, y_labelled)\n",
    "prediction = model.predict(X_test)\n",
    "\n",
    "print(\"Accuracy:\", accuracy_score(y_test, prediction))\n",
    "print(confusion_matrix(y_test, prediction))"
   ]
  },
  {
   "cell_type": "code",
   "execution_count": 10,
   "metadata": {},
   "outputs": [
    {
     "name": "stderr",
     "output_type": "stream",
     "text": [
      "/Users/anirudhchakravarthy/anaconda3/lib/python3.7/site-packages/sklearn/linear_model/_logistic.py:940: ConvergenceWarning: lbfgs failed to converge (status=1):\n",
      "STOP: TOTAL NO. of ITERATIONS REACHED LIMIT.\n",
      "\n",
      "Increase the number of iterations (max_iter) or scale the data as shown in:\n",
      "    https://scikit-learn.org/stable/modules/preprocessing.html\n",
      "Please also refer to the documentation for alternative solver options:\n",
      "    https://scikit-learn.org/stable/modules/linear_model.html#logistic-regression\n",
      "  extra_warning_msg=_LOGISTIC_SOLVER_CONVERGENCE_MSG)\n"
     ]
    }
   ],
   "source": [
    "committee = []\n",
    "committee.append(LogisticRegression())\n",
    "committee.append(DecisionTreeClassifier())\n",
    "committee.append(RandomForestClassifier())\n",
    "committee.append(SVC())\n",
    "committee.append(GaussianNB())\n",
    "committee.append(LinearDiscriminantAnalysis())\n",
    "committee.append(KNeighborsClassifier())\n",
    "committee.append(MLPClassifier())\n",
    "committee.append(AdaBoostClassifier())\n",
    "\n",
    "\n",
    "for i in range(NUM_COMMITTEE_MEMBERS):\n",
    "    committee[i].fit(X_labelled, y_labelled)"
   ]
  },
  {
   "cell_type": "markdown",
   "metadata": {},
   "source": [
    "### Inputs"
   ]
  },
  {
   "cell_type": "code",
   "execution_count": 11,
   "metadata": {},
   "outputs": [],
   "source": [
    "ALtype = \"stream\"\n",
    "strategy = \"uncertainty\"\n",
    "measure = \"leastConfident\"\n",
    "labelPercent = 0.2 # percent of newly labelled data needed"
   ]
  },
  {
   "cell_type": "code",
   "execution_count": 13,
   "metadata": {},
   "outputs": [
    {
     "ename": "TypeError",
     "evalue": "only integer scalar arrays can be converted to a scalar index",
     "output_type": "error",
     "traceback": [
      "\u001b[0;31m---------------------------------------------------------------------------\u001b[0m",
      "\u001b[0;31mTypeError\u001b[0m                                 Traceback (most recent call last)",
      "\u001b[0;32m<ipython-input-13-27ad291c6afa>\u001b[0m in \u001b[0;36m<module>\u001b[0;34m\u001b[0m\n\u001b[1;32m      3\u001b[0m \u001b[0;32mif\u001b[0m \u001b[0mstrategy\u001b[0m \u001b[0;34m==\u001b[0m \u001b[0;34m\"uncertainty\"\u001b[0m\u001b[0;34m:\u001b[0m\u001b[0;34m\u001b[0m\u001b[0;34m\u001b[0m\u001b[0m\n\u001b[1;32m      4\u001b[0m     \u001b[0mqueriedData\u001b[0m\u001b[0;34m,\u001b[0m \u001b[0mnewLabels\u001b[0m \u001b[0;34m=\u001b[0m \u001b[0muncertaintySampling\u001b[0m\u001b[0;34m(\u001b[0m\u001b[0mmodel\u001b[0m\u001b[0;34m,\u001b[0m \u001b[0mmeasure\u001b[0m\u001b[0;34m,\u001b[0m \u001b[0mALtype\u001b[0m\u001b[0;34m,\u001b[0m \u001b[0mlabelPercent\u001b[0m\u001b[0;34m)\u001b[0m\u001b[0;34m\u001b[0m\u001b[0;34m\u001b[0m\u001b[0m\n\u001b[0;32m----> 5\u001b[0;31m     \u001b[0mX_active\u001b[0m \u001b[0;34m=\u001b[0m \u001b[0mnp\u001b[0m\u001b[0;34m.\u001b[0m\u001b[0mconcatenate\u001b[0m\u001b[0;34m(\u001b[0m\u001b[0mX_active\u001b[0m\u001b[0;34m,\u001b[0m \u001b[0mqueriedData\u001b[0m\u001b[0;34m)\u001b[0m\u001b[0;34m\u001b[0m\u001b[0;34m\u001b[0m\u001b[0m\n\u001b[0m\u001b[1;32m      6\u001b[0m     \u001b[0my_active\u001b[0m \u001b[0;34m=\u001b[0m \u001b[0mnp\u001b[0m\u001b[0;34m.\u001b[0m\u001b[0mconcatenate\u001b[0m\u001b[0;34m(\u001b[0m\u001b[0my_active\u001b[0m\u001b[0;34m,\u001b[0m \u001b[0mnewLabels\u001b[0m\u001b[0;34m)\u001b[0m\u001b[0;34m\u001b[0m\u001b[0;34m\u001b[0m\u001b[0m\n\u001b[1;32m      7\u001b[0m \u001b[0;34m\u001b[0m\u001b[0m\n",
      "\u001b[0;32m<__array_function__ internals>\u001b[0m in \u001b[0;36mconcatenate\u001b[0;34m(*args, **kwargs)\u001b[0m\n",
      "\u001b[0;31mTypeError\u001b[0m: only integer scalar arrays can be converted to a scalar index"
     ]
    }
   ],
   "source": [
    "X_active, y_active = X_labelled, y_labelled\n",
    "\n",
    "if strategy == \"uncertainty\":\n",
    "    queriedData, newLabels = uncertaintySampling(model, measure, ALtype, labelPercent)\n",
    "    X_active = np.concatenate(X_active, queriedData)\n",
    "    y_active = np.concatenate(y_active, newLabels)\n",
    "    \n",
    "elif strategy == \"qbc\":\n",
    "    queriedData, newLabels = qbc(model, measure, ALtype, labelPercent)\n",
    "    X_active = np.concatenate(X_active, queriedData)\n",
    "    y_active = np.concatenate(y_active, newLabels)\n",
    "    \n",
    "else:\n",
    "    assert False, \"Strategy not implemented\""
   ]
  },
  {
   "cell_type": "code",
   "execution_count": null,
   "metadata": {},
   "outputs": [],
   "source": [
    "newModel = DecisionTreeClassifier()\n",
    "\n",
    "model.fit(X_active, y_active)\n",
    "prediction = model.predict(X_test)\n",
    "\n",
    "print(\"Accuracy:\", accuracy_score(y_test, prediction))\n",
    "print(confusion_matrix(y_test, prediction))"
   ]
  },
  {
   "cell_type": "code",
   "execution_count": null,
   "metadata": {},
   "outputs": [],
   "source": []
  }
 ],
 "metadata": {
  "kernelspec": {
   "display_name": "Python 3",
   "language": "python",
   "name": "python3"
  },
  "language_info": {
   "codemirror_mode": {
    "name": "ipython",
    "version": 3
   },
   "file_extension": ".py",
   "mimetype": "text/x-python",
   "name": "python",
   "nbconvert_exporter": "python",
   "pygments_lexer": "ipython3",
   "version": "3.7.6"
  }
 },
 "nbformat": 4,
 "nbformat_minor": 4
}
