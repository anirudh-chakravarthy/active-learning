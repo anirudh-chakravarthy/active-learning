{
 "cells": [
  {
   "cell_type": "markdown",
   "metadata": {},
   "source": [
    "# Active Learning using KMeans Clustering"
   ]
  },
  {
   "cell_type": "code",
   "execution_count": 1,
   "metadata": {},
   "outputs": [],
   "source": [
    "import numpy as np\n",
    "from sklearn.datasets import fetch_covtype\n",
    "from sklearn.preprocessing import MinMaxScaler\n",
    "from sklearn.cluster import KMeans\n",
    "from sklearn.model_selection import train_test_split\n",
    "from sklearn.metrics import accuracy_score, confusion_matrix"
   ]
  },
  {
   "cell_type": "markdown",
   "metadata": {},
   "source": [
    "### Load the Forest Covertype Dataset"
   ]
  },
  {
   "cell_type": "code",
   "execution_count": 2,
   "metadata": {},
   "outputs": [],
   "source": [
    "# load dataset\n",
    "x, y = fetch_covtype(return_X_y=True)\n",
    "NUM_CLASSES = 7"
   ]
  },
  {
   "cell_type": "code",
   "execution_count": 3,
   "metadata": {},
   "outputs": [],
   "source": [
    "# pre-processing, scale features between 0 and 1\n",
    "scaler = MinMaxScaler()\n",
    "x = scaler.fit_transform(x)"
   ]
  },
  {
   "cell_type": "code",
   "execution_count": 4,
   "metadata": {},
   "outputs": [],
   "source": [
    "# divide the whole dataset in train & test splits\n",
    "X_train, X_test, y_train, y_test = train_test_split(x, y, test_size = 0.40, random_state = 4)\n",
    "\n",
    "# further divide the train data in labelled & unlabelled data\n",
    "# retain only 3% of labelled points for training\n",
    "NUM_EXAMPLES = len(X_train)\n",
    "X_labelled, X_unlabelled, y_labelled, y_oracle = train_test_split(X_train, y_train, test_size = 0.90, random_state = 4)\n",
    "X_cluster, _, y_cluster, _ = train_test_split(X_unlabelled, y_oracle, test_size = 0.60, random_state = 4)"
   ]
  },
  {
   "cell_type": "code",
   "execution_count": 5,
   "metadata": {},
   "outputs": [],
   "source": [
    "### Function for finding cluster labels by labelling 20% points randomly"
   ]
  },
  {
   "cell_type": "code",
   "execution_count": 6,
   "metadata": {},
   "outputs": [],
   "source": [
    "def get_labels_for_cluster(kmeans, labels):\n",
    "    cluster_labels = [None] * NUM_CLASSES\n",
    "\n",
    "    for label in range(NUM_CLASSES):\n",
    "        # get args for all points with the current label\n",
    "        args = np.argwhere(kmeans.labels_== label)\n",
    "        # randomly choose 20% points of the cluster to label\n",
    "        indices = np.random.choice(args.shape[0], int(len(args) * 0.2), replace=False).reshape(-1, 1)\n",
    "        indices = np.sort(indices)\n",
    "        args = args[indices].reshape(-1)\n",
    "        # get labels for the chosen points\n",
    "        random_labels = y_cluster[args]\n",
    "        # find the cluster label and add to the list\n",
    "        counts = np.bincount(random_labels)\n",
    "        cluster_labels[label] = np.argmax(counts)\n",
    "\n",
    "    return labels[cluster_labels]"
   ]
  },
  {
   "cell_type": "code",
   "execution_count": 7,
   "metadata": {},
   "outputs": [],
   "source": [
    "labels = np.unique(y_cluster)\n",
    "kmeans = KMeans(n_clusters=NUM_CLASSES, random_state=0).fit(X_cluster)\n",
    "cluster_labels = get_labels_for_cluster(kmeans, labels)"
   ]
  },
  {
   "cell_type": "code",
   "execution_count": 8,
   "metadata": {},
   "outputs": [],
   "source": [
    "### Performance Evaluation"
   ]
  },
  {
   "cell_type": "code",
   "execution_count": 9,
   "metadata": {},
   "outputs": [
    {
     "name": "stdout",
     "output_type": "stream",
     "text": [
      "Accuracy: 0.062442718530152104\n",
      "\n",
      "Confusion Matrix:\n",
      "[[     0  13332  71482      0      0      0      0]\n",
      " [     0   7632 104498   1252      0      0      0]\n",
      " [     0      0   5790   8478      0      0      0]\n",
      " [     0      0      0   1090      0      0      0]\n",
      " [     0     98   3724      0      0      0      0]\n",
      " [     0      0   2974   3815      0      0      0]\n",
      " [     0   1086   7154      0      0      0      0]]\n"
     ]
    }
   ],
   "source": [
    "y_pred = kmeans.predict(X_test)\n",
    "y_pred = cluster_labels[y_pred]\n",
    "\n",
    "print(\"Accuracy:\", accuracy_score(y_test, y_pred))\n",
    "print(\"\\nConfusion Matrix:\")\n",
    "print(confusion_matrix(y_test, y_pred))"
   ]
  }
 ],
 "metadata": {
  "kernelspec": {
   "display_name": "Python 3",
   "language": "python",
   "name": "python3"
  },
  "language_info": {
   "codemirror_mode": {
    "name": "ipython",
    "version": 3
   },
   "file_extension": ".py",
   "mimetype": "text/x-python",
   "name": "python",
   "nbconvert_exporter": "python",
   "pygments_lexer": "ipython3",
   "version": "3.5.2"
  }
 },
 "nbformat": 4,
 "nbformat_minor": 4
}
