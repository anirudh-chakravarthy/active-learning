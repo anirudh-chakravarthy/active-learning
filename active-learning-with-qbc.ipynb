{
 "cells": [
  {
   "cell_type": "markdown",
   "metadata": {},
   "source": [
    "## Stream and Pool Active Learning using QBC Strategy"
   ]
  },
  {
   "cell_type": "code",
   "execution_count": 1,
   "metadata": {},
   "outputs": [],
   "source": [
    "import numpy as np\n",
    "from sklearn.datasets import load_breast_cancer\n",
    "from sklearn.preprocessing import MinMaxScaler\n",
    "from sklearn.model_selection import train_test_split\n",
    "from sklearn.metrics import accuracy_score, confusion_matrix"
   ]
  },
  {
   "cell_type": "code",
   "execution_count": 2,
   "metadata": {},
   "outputs": [],
   "source": [
    "from sklearn.linear_model import LogisticRegression\n",
    "from sklearn.tree import DecisionTreeClassifier\n",
    "from sklearn.neural_network import MLPClassifier\n",
    "from sklearn.ensemble import RandomForestClassifier, AdaBoostClassifier\n",
    "from sklearn.svm import SVC\n",
    "from sklearn.naive_bayes import GaussianNB\n",
    "from sklearn.discriminant_analysis import LinearDiscriminantAnalysis\n",
    "from sklearn.neighbors import KNeighborsClassifier\n",
    "from sklearn.cluster import KMeans"
   ]
  },
  {
   "cell_type": "markdown",
   "metadata": {},
   "source": [
    "### Load the Breast Cancer dataset"
   ]
  },
  {
   "cell_type": "code",
   "execution_count": 3,
   "metadata": {},
   "outputs": [],
   "source": [
    "# load dataset\n",
    "x, y = load_breast_cancer(return_X_y=True)\n",
    "NUM_EXAMPLES = len(x)\n",
    "NUM_CLASSES = 2"
   ]
  },
  {
   "cell_type": "code",
   "execution_count": 4,
   "metadata": {},
   "outputs": [],
   "source": [
    "# pre-processing, scale features between 0 and 1\n",
    "scaler = MinMaxScaler()\n",
    "x = scaler.fit_transform(x)"
   ]
  },
  {
   "cell_type": "code",
   "execution_count": 5,
   "metadata": {},
   "outputs": [],
   "source": [
    "# divide the whole dataset in train & test splits\n",
    "X_train, X_test, y_train, y_test = train_test_split(x, y, test_size = 0.20, random_state = 4)\n",
    "\n",
    "# further divide the train data in labelled & unlabelled data\n",
    "# retain only 3% of labelled points for training\n",
    "X_labelled, X_unlabelled, y_labelled, y_oracle = train_test_split(X_train, y_train, test_size = 0.97, random_state = 4)"
   ]
  },
  {
   "cell_type": "markdown",
   "metadata": {},
   "source": [
    "## Query By Committee\n",
    "Committee used:\n",
    "- Logistic Regression\n",
    "- Decision Tree Classifier\n",
    "- Random Forest Classifier\n",
    "- SVC\n",
    "- Gaussian NB\n",
    "- Linear Discriminant Analysis\n",
    "- K Neighbors Classifier\n",
    "- Ada Boost Classifier\n",
    "\n",
    "Disagreement measures used:\n",
    "- Vote entropy\n",
    "- KL Divergence"
   ]
  },
  {
   "cell_type": "code",
   "execution_count": 6,
   "metadata": {},
   "outputs": [],
   "source": [
    "committee = []\n",
    "committee.append(LogisticRegression())\n",
    "committee.append(DecisionTreeClassifier())\n",
    "committee.append(RandomForestClassifier())\n",
    "committee.append(SVC())\n",
    "committee.append(GaussianNB())\n",
    "committee.append(LinearDiscriminantAnalysis())\n",
    "committee.append(KNeighborsClassifier())\n",
    "committee.append(AdaBoostClassifier())\n",
    "\n",
    "NUM_COMMITTEE_MEMBERS = len(committee)\n",
    "\n",
    "for i in range(NUM_COMMITTEE_MEMBERS):\n",
    "    committee[i].fit(X_labelled, y_labelled)"
   ]
  },
  {
   "cell_type": "code",
   "execution_count": 7,
   "metadata": {},
   "outputs": [],
   "source": [
    "def qbc(committee, measure, ALtype, labelPercent):\n",
    "    \n",
    "    if ALtype == \"stream\":\n",
    "        queriedData, newLabels = [], []\n",
    "        # stream of points - one by one\n",
    "        for i in range(len(X_unlabelled)):\n",
    "            predictions = []\n",
    "            # each committee member gives their prediction\n",
    "            for j in range(NUM_COMMITTEE_MEMBERS):\n",
    "                committee_model = committee[j]\n",
    "                predictions.append(committee_model.predict(X_unlabelled[i].reshape(1, -1)))\n",
    "            # vote entropy based disagreement\n",
    "            if measure == \"voteEntropy\":\n",
    "                entropy = 0\n",
    "                # finding counts for each class\n",
    "                for k in range(NUM_CLASSES):\n",
    "                    count = predictions.count(k)\n",
    "                    # no entropy if vote doesn't exist\n",
    "                    if count == 0:\n",
    "                        continue\n",
    "                    entropy -= (count / NUM_COMMITTEE_MEMBERS) * np.log2(count / NUM_COMMITTEE_MEMBERS)\n",
    "                if entropy > 0.9:\n",
    "                    queriedData.append(X_unlabelled[i])\n",
    "                    newLabels.append(y_oracle[i])\n",
    "            # KL Divergence based disagreement   \n",
    "            elif measure == \"KLDivergence\":\n",
    "                kld = 0\n",
    "                # finding counts for each class\n",
    "                for k in range(NUM_CLASSES):\n",
    "                    count = predictions.count(k)\n",
    "                    # no KLD if vote doesn't exist\n",
    "                    if count == 0:\n",
    "                        continue\n",
    "                    kld -= count * np.log2(count / NUM_COMMITTEE_MEMBERS)\n",
    "                if kld > 7:\n",
    "                    queriedData.append(X_unlabelled[i])\n",
    "                    newLabels.append(y_oracle[i])\n",
    "            else:\n",
    "                assert False, \"Disagreement measure not implemented\"\n",
    "        return np.asarray(queriedData), np.asarray(newLabels)\n",
    "            \n",
    "        \n",
    "    elif ALtype == \"pool\":\n",
    "        predictions = []\n",
    "        disagreement = []\n",
    "        num_queries = int(NUM_EXAMPLES * labelPercent)\n",
    "        for k in range(NUM_COMMITTEE_MEMBERS):\n",
    "            predictions.append(committee[k].predict(X_unlabelled))\n",
    "        predictions = np.asarray(predictions)\n",
    "        for i in range(len(X_unlabelled)):\n",
    "            instanceDisagreement = 0\n",
    "            for j in range(NUM_CLASSES):\n",
    "                count = predictions[j][i]\n",
    "                # no contibution for classes not present in prediction\n",
    "                if count == 0:\n",
    "                    continue\n",
    "                if measure == \"voteEntropy\":\n",
    "                    instanceDisagreement -= (count / NUM_COMMITTEE_MEMBERS) * np.log2(count / NUM_COMMITTEE_MEMBERS)\n",
    "                elif measure == \"KLDivergence\":\n",
    "                    instanceDisagreement -= count * np.log2(count / NUM_COMMITTEE_MEMBERS)\n",
    "                else:\n",
    "                    assert False, \"Disagreement measure not implemented\"\n",
    "            disagreement.append(instanceDisagreement)\n",
    "        disagreement = np.asarray(disagreement)\n",
    "        indices = np.argsort(disagreement, axis = 0)[:num_queries]\n",
    "        return X_unlabelled[indices], y_oracle[indices]\n",
    "    else: \n",
    "        assert False, \"Active learning type not implemented\""
   ]
  },
  {
   "cell_type": "markdown",
   "metadata": {},
   "source": [
    "### Machine Learning Model Training without Additional Data\n",
    "\n",
    "Model used is `Logistic Regression`"
   ]
  },
  {
   "cell_type": "code",
   "execution_count": 8,
   "metadata": {},
   "outputs": [
    {
     "name": "stdout",
     "output_type": "stream",
     "text": [
      "Accuracy: 0.8070175438596491\n",
      "\n",
      "Confusion Matrix:\n",
      "[[34  0]\n",
      " [22 58]]\n"
     ]
    }
   ],
   "source": [
    "model = LogisticRegression(random_state=0)\n",
    "\n",
    "model.fit(X_labelled, y_labelled)\n",
    "prediction = model.predict(X_test)\n",
    "\n",
    "print(\"Accuracy:\", accuracy_score(y_test, prediction))\n",
    "print(\"\\nConfusion Matrix:\")\n",
    "print(confusion_matrix(y_test, prediction))"
   ]
  },
  {
   "cell_type": "code",
   "execution_count": 9,
   "metadata": {},
   "outputs": [],
   "source": [
    "strategy_list = ['uncertainty', 'qbc']\n",
    "al_type_list = ['stream', 'pool']\n",
    "# measure_list = ['leastConfident', 'marginSampling', 'entropy']\n",
    "measure_list = ['voteEntropy', 'KLDivergence']\n",
    "\n",
    "strategy = strategy_list[1]\n",
    "al_type = al_type_list[1]\n",
    "measure = measure_list[1]\n",
    "\n",
    "labelPercent = 0.3 # percent of newly labelled data needed"
   ]
  },
  {
   "cell_type": "markdown",
   "metadata": {},
   "source": [
    "## Results for different Active Learning Types with various Information Measures"
   ]
  },
  {
   "cell_type": "code",
   "execution_count": 10,
   "metadata": {},
   "outputs": [],
   "source": [
    "def evaluate_using_al(X_labelled, y_labelled, model, measure, al_type, label_percent=None):\n",
    "    X_active, y_active = X_labelled.copy(), y_labelled.copy()\n",
    "\n",
    "    queriedData, newLabels = qbc(committee, measure, al_type, labelPercent=label_percent)\n",
    "\n",
    "    X_active = np.concatenate((X_active, queriedData))\n",
    "    y_active = np.concatenate((y_active, newLabels))\n",
    "    \n",
    "    newModel = LogisticRegression(random_state=0)\n",
    "\n",
    "    model.fit(X_active, y_active)\n",
    "    prediction = model.predict(X_test)\n",
    "\n",
    "    print(\"Accuracy:\", accuracy_score(y_test, prediction))\n",
    "    print(\"\\nConfusion Matrix:\")\n",
    "    print(confusion_matrix(y_test, prediction))"
   ]
  },
  {
   "cell_type": "markdown",
   "metadata": {},
   "source": [
    "### Stream using Vote Entropy"
   ]
  },
  {
   "cell_type": "code",
   "execution_count": 11,
   "metadata": {},
   "outputs": [
    {
     "name": "stdout",
     "output_type": "stream",
     "text": [
      "Accuracy: 0.9736842105263158\n",
      "\n",
      "Confusion Matrix:\n",
      "[[31  3]\n",
      " [ 0 80]]\n"
     ]
    }
   ],
   "source": [
    "al_type = 'stream'\n",
    "measure = 'voteEntropy'\n",
    "evaluate_using_al(X_labelled, y_labelled, model, measure, al_type)"
   ]
  },
  {
   "cell_type": "markdown",
   "metadata": {},
   "source": [
    "### Stream using KL Divergence"
   ]
  },
  {
   "cell_type": "code",
   "execution_count": 12,
   "metadata": {},
   "outputs": [
    {
     "name": "stdout",
     "output_type": "stream",
     "text": [
      "Accuracy: 0.9736842105263158\n",
      "\n",
      "Confusion Matrix:\n",
      "[[31  3]\n",
      " [ 0 80]]\n"
     ]
    }
   ],
   "source": [
    "al_type = 'stream'\n",
    "measure = 'KLDivergence'\n",
    "evaluate_using_al(X_labelled, y_labelled, model, measure, al_type)"
   ]
  },
  {
   "cell_type": "markdown",
   "metadata": {},
   "source": [
    "### Pool using Vote Entropy"
   ]
  },
  {
   "cell_type": "code",
   "execution_count": 13,
   "metadata": {},
   "outputs": [
    {
     "name": "stdout",
     "output_type": "stream",
     "text": [
      "Accuracy: 0.8947368421052632\n",
      "\n",
      "Confusion Matrix:\n",
      "[[34  0]\n",
      " [12 68]]\n"
     ]
    }
   ],
   "source": [
    "al_type = 'pool'\n",
    "measure = 'voteEntropy'\n",
    "evaluate_using_al(X_labelled, y_labelled, model, measure, al_type, label_percent = 0.3)"
   ]
  },
  {
   "cell_type": "markdown",
   "metadata": {},
   "source": [
    "### Pool using KL Divergence"
   ]
  },
  {
   "cell_type": "code",
   "execution_count": 14,
   "metadata": {},
   "outputs": [
    {
     "name": "stdout",
     "output_type": "stream",
     "text": [
      "Accuracy: 0.8947368421052632\n",
      "\n",
      "Confusion Matrix:\n",
      "[[34  0]\n",
      " [12 68]]\n"
     ]
    }
   ],
   "source": [
    "al_type = 'pool'\n",
    "measure = 'KLDivergence'\n",
    "evaluate_using_al(X_labelled, y_labelled, model, measure, al_type, label_percent = 0.3)"
   ]
  }
 ],
 "metadata": {
  "kernelspec": {
   "display_name": "Python 3",
   "language": "python",
   "name": "python3"
  },
  "language_info": {
   "codemirror_mode": {
    "name": "ipython",
    "version": 3
   },
   "file_extension": ".py",
   "mimetype": "text/x-python",
   "name": "python",
   "nbconvert_exporter": "python",
   "pygments_lexer": "ipython3",
   "version": "3.5.2"
  }
 },
 "nbformat": 4,
 "nbformat_minor": 4
}
