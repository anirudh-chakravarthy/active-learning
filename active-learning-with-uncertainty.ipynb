{
 "cells": [
  {
   "cell_type": "markdown",
   "metadata": {},
   "source": [
    "# Stream and Pool Active Learning using Uncertainty Strategy"
   ]
  },
  {
   "cell_type": "code",
   "execution_count": 1,
   "metadata": {},
   "outputs": [],
   "source": [
    "import numpy as np\n",
    "from sklearn.datasets import load_breast_cancer\n",
    "from sklearn.preprocessing import MinMaxScaler\n",
    "from sklearn.linear_model import LogisticRegression\n",
    "from sklearn.model_selection import train_test_split\n",
    "from sklearn.metrics import accuracy_score, confusion_matrix"
   ]
  },
  {
   "cell_type": "markdown",
   "metadata": {},
   "source": [
    "### Load the Breast Cancer dataset"
   ]
  },
  {
   "cell_type": "code",
   "execution_count": 2,
   "metadata": {},
   "outputs": [],
   "source": [
    "# load dataset\n",
    "x, y = load_breast_cancer(return_X_y=True)\n",
    "NUM_EXAMPLES = len(x)"
   ]
  },
  {
   "cell_type": "code",
   "execution_count": 3,
   "metadata": {},
   "outputs": [],
   "source": [
    "# pre-processing, scale features between 0 and 1\n",
    "scaler = MinMaxScaler()\n",
    "x = scaler.fit_transform(x)"
   ]
  },
  {
   "cell_type": "code",
   "execution_count": 4,
   "metadata": {},
   "outputs": [],
   "source": [
    "# divide the whole dataset in train & test splits\n",
    "X_train, X_test, y_train, y_test = train_test_split(x, y, test_size = 0.20, random_state = 4)\n",
    "\n",
    "# further divide the train data in labelled & unlabelled data\n",
    "# retain only 3% of labelled points for training\n",
    "X_labelled, X_unlabelled, y_labelled, y_oracle = train_test_split(X_train, y_train, test_size = 0.97, random_state = 4)"
   ]
  },
  {
   "cell_type": "markdown",
   "metadata": {},
   "source": [
    "### Uncertainty Sampling Implementation\n",
    "Information measures used:\n",
    "- Least Confident\n",
    "- Margin Sampling\n",
    "- Entropy"
   ]
  },
  {
   "cell_type": "code",
   "execution_count": 5,
   "metadata": {},
   "outputs": [],
   "source": [
    "def uncertaintySampling(model, measure, ALtype, labelPercent=None):\n",
    "\n",
    "    probabilities = model.predict_proba(X_unlabelled)\n",
    "\n",
    "    # stream-based active learning\n",
    "    if ALtype == \"stream\":\n",
    "        queriedData, newLabels = [], []\n",
    "        # stream of points - one by one\n",
    "        for i in range(len(X_unlabelled)):\n",
    "            # return all points with confidence threshold\n",
    "            if measure == \"leastConfident\":\n",
    "                if probabilities[i].max() < 0.6:\n",
    "                    queriedData.append(X_unlabelled[i])\n",
    "                    newLabels.append(y_oracle[i])\n",
    "            # return all points with margin threshold\n",
    "            elif measure == \"marginSampling\":\n",
    "                sortedProbabilities = np.sort(probabilities[i])\n",
    "                margin = abs(sortedProbabilities[1] - sortedProbabilities[0])\n",
    "                if margin < 0.2:\n",
    "                    queriedData.append(X_unlabelled[i])\n",
    "                    newLabels.append(y_oracle[i])\n",
    "            # return all points with entropy threshold\n",
    "            elif measure == \"entropy\":\n",
    "                entropy = -np.sum(probabilities[i] * np.log2(probabilities[i]))\n",
    "                if entropy > 0.99:\n",
    "                    queriedData.append(X_unlabelled[i])\n",
    "                    newLabels.append(y_oracle[i])\n",
    "            else:\n",
    "                assert False, \"Information measure not implemented\"\n",
    "        return np.asarray(queriedData), np.asarray(newLabels)\n",
    "\n",
    "    \n",
    "    # pool-based active learning\n",
    "    elif ALtype == \"pool\":\n",
    "        # return labelPercent points of all points\n",
    "        num_queries = int(NUM_EXAMPLES * labelPercent)\n",
    "        if measure == \"leastConfident\":\n",
    "            sortedProbabilities = np.argsort(probabilities.max(axis=1))\n",
    "            indices = sortedProbabilities[:num_queries]\n",
    "        elif measure == \"marginSampling\":\n",
    "            sortedProbabilities = np.sort(probabilities)\n",
    "            indices = np.argsort(sortedProbabilities[:,1] - sortedProbabilities[:,0])[:num_queries]\n",
    "        elif measure == \"entropy\":\n",
    "            entropies = -np.sum(probabilities * np.log2(probabilities), axis=1)\n",
    "            indices = np.argsort(entropies)[-num_queries:]\n",
    "        else:\n",
    "            assert False, \"Information measure not implemented\"            \n",
    "        return X_unlabelled[indices], y_oracle[indices]\n",
    "\n",
    "    else:\n",
    "        assert False, \"Active learning type not implemented\""
   ]
  },
  {
   "cell_type": "markdown",
   "metadata": {},
   "source": [
    "### Machine Learning Model Training without Additional Data\n",
    "\n",
    "Model used is `Logistic Regression`"
   ]
  },
  {
   "cell_type": "code",
   "execution_count": 6,
   "metadata": {},
   "outputs": [
    {
     "name": "stdout",
     "output_type": "stream",
     "text": [
      "Accuracy: 0.8070175438596491\n",
      "\n",
      "Confusion Matrix:\n",
      "[[34  0]\n",
      " [22 58]]\n"
     ]
    }
   ],
   "source": [
    "model = LogisticRegression(random_state=0)\n",
    "\n",
    "model.fit(X_labelled, y_labelled)\n",
    "prediction = model.predict(X_test)\n",
    "\n",
    "print(\"Accuracy:\", accuracy_score(y_test, prediction))\n",
    "print(\"\\nConfusion Matrix:\")\n",
    "print(confusion_matrix(y_test, prediction))"
   ]
  },
  {
   "cell_type": "markdown",
   "metadata": {},
   "source": [
    "## Results for different Active Learning Types with various Information Measures"
   ]
  },
  {
   "cell_type": "code",
   "execution_count": 7,
   "metadata": {},
   "outputs": [],
   "source": [
    "def evaluate_using_al(X_labelled, y_labelled, model, measure, al_type, label_percent=None):\n",
    "    X_active, y_active = X_labelled.copy(), y_labelled.copy()\n",
    "\n",
    "    queriedData, newLabels = uncertaintySampling(model, measure, al_type, labelPercent=label_percent)\n",
    "\n",
    "    X_active = np.concatenate((X_active, queriedData))\n",
    "    y_active = np.concatenate((y_active, newLabels))\n",
    "    \n",
    "    newModel = LogisticRegression(random_state=0)\n",
    "\n",
    "    model.fit(X_active, y_active)\n",
    "    prediction = model.predict(X_test)\n",
    "\n",
    "    print(\"Accuracy:\", accuracy_score(y_test, prediction))\n",
    "    print(\"\\nConfusion Matrix:\")\n",
    "    print(confusion_matrix(y_test, prediction))"
   ]
  },
  {
   "cell_type": "markdown",
   "metadata": {},
   "source": [
    "### Stream using Least Confident"
   ]
  },
  {
   "cell_type": "code",
   "execution_count": 8,
   "metadata": {},
   "outputs": [
    {
     "name": "stdout",
     "output_type": "stream",
     "text": [
      "Accuracy: 0.9649122807017544\n",
      "\n",
      "Confusion Matrix:\n",
      "[[30  4]\n",
      " [ 0 80]]\n"
     ]
    }
   ],
   "source": [
    "al_type = 'stream'\n",
    "measure = 'leastConfident'\n",
    "evaluate_using_al(X_labelled, y_labelled, model, measure, al_type)"
   ]
  },
  {
   "cell_type": "markdown",
   "metadata": {},
   "source": [
    "### Stream using Margin Sampling"
   ]
  },
  {
   "cell_type": "code",
   "execution_count": 9,
   "metadata": {},
   "outputs": [
    {
     "name": "stdout",
     "output_type": "stream",
     "text": [
      "Accuracy: 0.2982456140350877\n",
      "\n",
      "Confusion Matrix:\n",
      "[[34  0]\n",
      " [80  0]]\n"
     ]
    }
   ],
   "source": [
    "al_type = 'stream'\n",
    "measure = 'marginSampling'\n",
    "evaluate_using_al(X_labelled, y_labelled, model, measure, al_type)"
   ]
  },
  {
   "cell_type": "markdown",
   "metadata": {},
   "source": [
    "### Stream using Entropy"
   ]
  },
  {
   "cell_type": "code",
   "execution_count": 10,
   "metadata": {},
   "outputs": [
    {
     "name": "stdout",
     "output_type": "stream",
     "text": [
      "Accuracy: 0.9649122807017544\n",
      "\n",
      "Confusion Matrix:\n",
      "[[34  0]\n",
      " [ 4 76]]\n"
     ]
    }
   ],
   "source": [
    "al_type = 'stream'\n",
    "measure = 'entropy'\n",
    "evaluate_using_al(X_labelled, y_labelled, model, measure, al_type)"
   ]
  },
  {
   "cell_type": "markdown",
   "metadata": {},
   "source": [
    "### Pool using Least Confident"
   ]
  },
  {
   "cell_type": "code",
   "execution_count": 11,
   "metadata": {},
   "outputs": [
    {
     "name": "stdout",
     "output_type": "stream",
     "text": [
      "Accuracy: 0.9912280701754386\n",
      "\n",
      "Confusion Matrix:\n",
      "[[34  0]\n",
      " [ 1 79]]\n"
     ]
    }
   ],
   "source": [
    "al_type = 'pool'\n",
    "measure = 'leastConfident'\n",
    "evaluate_using_al(X_labelled, y_labelled, model, measure, al_type, label_percent = 0.3)"
   ]
  },
  {
   "cell_type": "markdown",
   "metadata": {},
   "source": [
    "### Pool using Margin Sampling"
   ]
  },
  {
   "cell_type": "code",
   "execution_count": 12,
   "metadata": {},
   "outputs": [
    {
     "name": "stdout",
     "output_type": "stream",
     "text": [
      "Accuracy: 0.9912280701754386\n",
      "\n",
      "Confusion Matrix:\n",
      "[[34  0]\n",
      " [ 1 79]]\n"
     ]
    }
   ],
   "source": [
    "al_type = 'pool'\n",
    "measure = 'marginSampling'\n",
    "evaluate_using_al(X_labelled, y_labelled, model, measure, al_type, label_percent = 0.3)"
   ]
  },
  {
   "cell_type": "markdown",
   "metadata": {},
   "source": [
    "### Pool using Entropy"
   ]
  },
  {
   "cell_type": "code",
   "execution_count": 13,
   "metadata": {},
   "outputs": [
    {
     "name": "stdout",
     "output_type": "stream",
     "text": [
      "Accuracy: 0.9912280701754386\n",
      "\n",
      "Confusion Matrix:\n",
      "[[34  0]\n",
      " [ 1 79]]\n"
     ]
    }
   ],
   "source": [
    "al_type = 'pool'\n",
    "measure = 'entropy'\n",
    "evaluate_using_al(X_labelled, y_labelled, model, measure, al_type, label_percent = 0.3)"
   ]
  }
 ],
 "metadata": {
  "kernelspec": {
   "display_name": "Python 3",
   "language": "python",
   "name": "python3"
  },
  "language_info": {
   "codemirror_mode": {
    "name": "ipython",
    "version": 3
   },
   "file_extension": ".py",
   "mimetype": "text/x-python",
   "name": "python",
   "nbconvert_exporter": "python",
   "pygments_lexer": "ipython3",
   "version": "3.5.2"
  }
 },
 "nbformat": 4,
 "nbformat_minor": 4
}
